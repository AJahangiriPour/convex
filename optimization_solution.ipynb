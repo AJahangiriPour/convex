{
  "nbformat": 4,
  "nbformat_minor": 0,
  "metadata": {
    "colab": {
      "provenance": []
    },
    "kernelspec": {
      "name": "python3",
      "display_name": "Python 3"
    },
    "language_info": {
      "name": "python"
    }
  },
  "cells": [
    {
      "cell_type": "code",
      "source": [
        "import numpy as np\n",
        "import cvxpy as cp\n",
        "\n",
        "c = np.array([2, 5, 5, 2, 7, 9, 2, 4, 3])\n",
        "\n",
        "A_array = np.array([\n",
        "    [1, 1, 0, 0, 0, 0, 0, 0, 0],\n",
        "    [-1, 0, 1, 1,1 , 1, 0, 0, 0],\n",
        "    [0, 0, -1, 0, 0, 0, 1, 0, 0],\n",
        "    [0, -1, 0, -1, 0, 0, 0, 1, 0],\n",
        "    [0, 0, 0, 0, -1, 0, 0, -1, 1],\n",
        "    [0, 0, 0, 0, 0, -1, -1, 0, -1]\n",
        "])\n",
        "\n",
        "b_array = np.array([10, 1, -2, -3, 4, -10])\n",
        "\n",
        "# declare the variables\n",
        "x = cp.Variable(len(c))\n",
        "\n",
        "c = cp.Constant(c)\n",
        "A = cp.Constant(A_array)\n",
        "b = cp.Constant(b_array)\n",
        "\n",
        "# Define the objective function\n",
        "objective = cp.Minimize(c @ x)\n",
        "\n",
        "# Define the constraints\n",
        "constraints = [A @ x == b, 0 <= x, x <= 6]\n",
        "\n",
        "# Formulate the problem\n",
        "problem = cp.Problem(objective, constraints)\n",
        "\n",
        "# Solve the problem\n",
        "result = problem.solve()\n",
        "print(result)\n",
        "print(x.value)\n",
        "\n",
        "x=np.round(np.array(x.value)).astype(int)\n",
        "print(x)\n",
        "\n",
        "assert  (A_array @ x == b_array).all() and (x <= 6).all() and (0 <= x).all()"
      ],
      "metadata": {
        "colab": {
          "base_uri": "https://localhost:8080/"
        },
        "id": "ZrCgzBgWvg-t",
        "outputId": "1ad24e66-4c8f-412e-9f73-6c27299a1213"
      },
      "execution_count": null,
      "outputs": [
        {
          "output_type": "stream",
          "name": "stdout",
          "text": [
            "98.00000001440777\n",
            "[6.00000000e+00 4.00000000e+00 6.00000000e+00 3.20133344e-01\n",
            " 5.69880706e-09 6.79866649e-01 4.00000000e+00 1.32013335e+00\n",
            " 5.32013335e+00]\n",
            "[6 4 6 0 0 1 4 1 5]\n"
          ]
        }
      ]
    }
  ]
}